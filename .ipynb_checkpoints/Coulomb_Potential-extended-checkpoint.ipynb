{
 "cells": [
  {
   "cell_type": "markdown",
   "metadata": {},
   "source": [
    "This notebook demonstrates a small extension to Homework 2 to accomplish the common task of computing the total nuclear-nuclear repulsion energy in a molecule.  The coulomb potential is used to describe the nuclear-nuclear repulsion energy, which depends upon the separation between the nuclei and their charges.  To validate the code below, the result from the [Psi4](http://www.psicode.org/) quantum chemistry package is provided for water in the geometry specified in \"water.xyz\". "
   ]
  },
  {
   "cell_type": "code",
   "execution_count": 1,
   "metadata": {},
   "outputs": [],
   "source": [
    "import numpy as np\n",
    "import os\n",
    "\n",
    "\n",
    "# create path to file consistent with my os\n",
    "file = os.path.join(\"data\", \"water.xyz\")\n",
    "# read file with genfrom txt\n",
    "water = np.genfromtxt(fname=file, skip_header=2, dtype='unicode')\n",
    "### slice the water array so that we have the labels in one array\n",
    "atom_labels = water[:,0]\n",
    "### and the coords in another\n",
    "atom_coords = water[:,1:]\n",
    "### convert to floats\n",
    "xyz = atom_coords.astype(np.float)\n",
    "### get number of atoms\n",
    "num_atoms = len(atom_labels)"
   ]
  },
  {
   "cell_type": "markdown",
   "metadata": {},
   "source": [
    "### Calculate Distance and Calculate Coulomb Potential functions\n",
    "The coulomb potential between the nuclei of any two atoms can be computed as\n",
    "\\begin{equation}\n",
    "V_{1,2} = \\frac{q_1 q_2}{4 \\pi \\epsilon_0 r_{1,2}},\n",
    "\\end{equation}\n",
    "where $q_1$ and $q_2$ is the charge of nucleus 1 and 2, $\\epsilon_0$ is the permittivity of free space, and $r_{1,2}$ is the separation between\n",
    "nucleus 1 and 2, that can be computed from the xyz coordinates\n",
    "of atoms 1 and 2 as follows:\n",
    "\\begin{equation}\n",
    "r_{1,2} = \\sqrt{(x_1 - x_2)^2 + (y_1-y_2)^2 + (z_1-z_2)^2}.\n",
    "\\end{equation}\n",
    "\n",
    "We will use two functions to aid the computation of the coulomb potential.  `calculate_distance(coord1, coord2)` (already written during workshop) will take\n",
    "the xyz coordinates of two atoms and compute $r_{1,2}$.  \n",
    "`calculate_coulomb_potential_au` will take the xyz coordinates of two atoms, as well as the labels for those atoms.  It will call `calculate_distance` to compute $r_{1,2}$, and then use the atom labels\n",
    "to determine the charges $q_1$ and $q_2$.\n",
    "\n",
    "To make the calculation cleaner, we will use atomic units where\n",
    "$4\\pi \\epsilon_0 = 1$, but since our coordinates from `water.xyz` are in Angstroms, we have to convert these coordinates from Angstroms to the atomic unit system for length using the fact that 1 atomic unit of length $\\approx$ 0.529 Angstroms."
   ]
  },
  {
   "cell_type": "code",
   "execution_count": 2,
   "metadata": {},
   "outputs": [],
   "source": [
    "nuclear_charge_dict = {'H': 1,\n",
    "                       'C': 6,\n",
    "                       'N': 7,\n",
    "                       'O': 8}"
   ]
  },
  {
   "cell_type": "code",
   "execution_count": 3,
   "metadata": {},
   "outputs": [],
   "source": [
    "import re\n",
    "\n",
    "def calculate_distance(coord1, coord2):\n",
    "    ''' Function to compute the scalar distance between\n",
    "        two points. '''\n",
    "    x_d = coord1[0] - coord2[0]\n",
    "    y_d = coord1[1] - coord2[1]\n",
    "    z_d = coord1[2] - coord2[2]\n",
    "    return np.sqrt(x_d**2 + y_d**2 + z_d**2)\n",
    "\n",
    "def calculate_coulomb_potential_au(coord1, coord2, label1, label2):\n",
    "    ''' Function to compute the coulomb potential between\n",
    "        two atoms specified by label1 and label2 at positions\n",
    "        given by coord1 and coord2, respectively.  The potential\n",
    "        will be computed in atomic units (Hartrees) where \n",
    "        4*pi*eps_0 = 1 atomic units of permittivity, \n",
    "        e (charge of electron) = 1 atomic unit of charge,\n",
    "        and a0 (bohr radius) = 1 atomic unit of distance...\n",
    "        currently this function is not very smart and just expects \n",
    "        the values of the labels will either be 'O' for oxygen, \n",
    "        or otherwise will refer to hydrogen '''\n",
    "    ### determine the appropriate charges from the labels\n",
    "    # remove numbers from label1 & label2\n",
    "    element1 = re.sub(r'\\d+', '', label1)\n",
    "    element2 = re.sub(r'\\d+', '', label2)\n",
    "    q1 = nuclear_charge_dict[element1]\n",
    "    q2 = nuclear_charge_dict[element2]\n",
    "    \n",
    "    # if label1[0] == 'O':\n",
    "    #     q1 = 8.\n",
    "    # else:\n",
    "    #     q1 = 1.\n",
    "    # if label2[0] == 'O':\n",
    "    #     q2 = 8.\n",
    "    # else:\n",
    "    #     q2 = 1.\n",
    "    ### determine the distance in angstroms\n",
    "    r_ang = calculate_distance(coord1, coord2)\n",
    "    ### convert distance from angstroms to atomic units\n",
    "    ### where 1 atomic unit of distance = 0.529 angstroms\n",
    "    r_au = r_ang / 0.529177210903\n",
    "    ### now compute the potential\n",
    "    V_au = q1*q2/r_au\n",
    "    return V_au"
   ]
  },
  {
   "cell_type": "markdown",
   "metadata": {},
   "source": [
    "Next we will loop through all of the *unique* atom pairs like we did before and compute and print the coulomb potential between each *unique* pair.  Because we want to know the *total* coulomb potential, we will sum over the potential between each unique pair!  We will do this by initializing a variable *V_tot* with the value zero, and then every time we compute a the potential between a new unique pair, we can assign the value of *V_tot* to be the current value of *V_tot* plus the value of the new unique pair:\n",
    "\n",
    "`V_tot = V_tot + V_pair`\n",
    "\n",
    "which is a way to sum up values using loops!"
   ]
  },
  {
   "cell_type": "code",
   "execution_count": 4,
   "metadata": {},
   "outputs": [
    {
     "name": "stdout",
     "output_type": "stream",
     "text": [
      "O to H1 : V_pair 4.368850 Hartrees\n",
      "O to H2 : V_pair 4.368851 Hartrees\n",
      "H1 to H2 : V_pair 0.346561 Hartrees\n",
      "Total Coulomb Potential is 9.084262 Hartrees\n"
     ]
    }
   ],
   "source": [
    "### now loop through the num_atom pairs, compute & print distances\n",
    "V_tot = 0.\n",
    "for i in range(0,num_atoms):\n",
    "    for j in range(0,num_atoms):\n",
    "        if i < j:\n",
    "            V_pair = calculate_coulomb_potential_au(xyz[i], xyz[j], atom_labels[i], atom_labels[j])\n",
    "            V_tot += V_pair\n",
    "            print(F'{atom_labels[i]} to {atom_labels[j]} : V_pair {V_pair:.6f} Hartrees')\n",
    "            \n",
    "print(F'Total Coulomb Potential is {V_tot:.6f} Hartrees')"
   ]
  },
  {
   "cell_type": "markdown",
   "metadata": {},
   "source": [
    "Note the Nuclear Repulsion as computed for water in this geometry in our favorite quantum chemistry package [Psi4](http://www.psicode.org/) is: Nuclear repulsion =    9.084261678851274 Hartrees"
   ]
  },
  {
   "cell_type": "code",
   "execution_count": 5,
   "metadata": {},
   "outputs": [
    {
     "name": "stdout",
     "output_type": "stream",
     "text": [
      "C to H : V_pair 2.919410 Hartrees\n",
      "C to C : V_pair 13.581038 Hartrees\n",
      "C to H : V_pair 1.468299 Hartrees\n",
      "C to C : V_pair 7.841012 Hartrees\n",
      "C to H : V_pair 0.929733 Hartrees\n",
      "C to C : V_pair 6.790514 Hartrees\n",
      "C to H : V_pair 0.815581 Hartrees\n",
      "C to C : V_pair 7.841012 Hartrees\n",
      "C to H : V_pair 0.929733 Hartrees\n",
      "C to C : V_pair 13.581038 Hartrees\n",
      "C to H : V_pair 1.468299 Hartrees\n",
      "H to C : V_pair 1.468303 Hartrees\n",
      "H to H : V_pair 0.212496 Hartrees\n",
      "H to C : V_pair 0.929736 Hartrees\n",
      "H to H : V_pair 0.122685 Hartrees\n",
      "H to C : V_pair 0.815581 Hartrees\n",
      "H to H : V_pair 0.106248 Hartrees\n",
      "H to C : V_pair 0.929736 Hartrees\n",
      "H to H : V_pair 0.122685 Hartrees\n",
      "H to C : V_pair 1.468303 Hartrees\n",
      "H to H : V_pair 0.212496 Hartrees\n",
      "C to H : V_pair 2.919388 Hartrees\n",
      "C to C : V_pair 13.581028 Hartrees\n",
      "C to H : V_pair 1.468298 Hartrees\n",
      "C to C : V_pair 7.841012 Hartrees\n",
      "C to H : V_pair 0.929736 Hartrees\n",
      "C to C : V_pair 6.790519 Hartrees\n",
      "C to H : V_pair 0.815579 Hartrees\n",
      "C to C : V_pair 7.841018 Hartrees\n",
      "C to H : V_pair 0.929734 Hartrees\n",
      "H to C : V_pair 1.468298 Hartrees\n",
      "H to H : V_pair 0.212495 Hartrees\n",
      "H to C : V_pair 0.929733 Hartrees\n",
      "H to H : V_pair 0.122685 Hartrees\n",
      "H to C : V_pair 0.815579 Hartrees\n",
      "H to H : V_pair 0.106248 Hartrees\n",
      "H to C : V_pair 0.929734 Hartrees\n",
      "H to H : V_pair 0.122684 Hartrees\n",
      "C to H : V_pair 2.919388 Hartrees\n",
      "C to C : V_pair 13.581038 Hartrees\n",
      "C to H : V_pair 1.468303 Hartrees\n",
      "C to C : V_pair 7.841018 Hartrees\n",
      "C to H : V_pair 0.929734 Hartrees\n",
      "C to C : V_pair 6.790519 Hartrees\n",
      "C to H : V_pair 0.815579 Hartrees\n",
      "H to C : V_pair 1.468299 Hartrees\n",
      "H to H : V_pair 0.212496 Hartrees\n",
      "H to C : V_pair 0.929734 Hartrees\n",
      "H to H : V_pair 0.122684 Hartrees\n",
      "H to C : V_pair 0.815579 Hartrees\n",
      "H to H : V_pair 0.106248 Hartrees\n",
      "C to H : V_pair 2.919410 Hartrees\n",
      "C to C : V_pair 13.581038 Hartrees\n",
      "C to H : V_pair 1.468299 Hartrees\n",
      "C to C : V_pair 7.841012 Hartrees\n",
      "C to H : V_pair 0.929733 Hartrees\n",
      "H to C : V_pair 1.468303 Hartrees\n",
      "H to H : V_pair 0.212496 Hartrees\n",
      "H to C : V_pair 0.929736 Hartrees\n",
      "H to H : V_pair 0.122685 Hartrees\n",
      "C to H : V_pair 2.919388 Hartrees\n",
      "C to C : V_pair 13.581028 Hartrees\n",
      "C to H : V_pair 1.468298 Hartrees\n",
      "H to C : V_pair 1.468298 Hartrees\n",
      "H to H : V_pair 0.212495 Hartrees\n",
      "C to H : V_pair 2.919388 Hartrees\n",
      "Total Coulomb Potential is 202.419934 Hartrees\n"
     ]
    }
   ],
   "source": [
    "file = os.path.join(\"data\", \"benzene.xyz\")\n",
    "benzene = np.genfromtxt(fname=file, skip_header=2, dtype='unicode')\n",
    "atom_labels = benzene[:,0]\n",
    "atom_coords = benzene[:,1:]\n",
    "xyz = atom_coords.astype(np.float)\n",
    "num_atoms = len(atom_labels)\n",
    "\n",
    "V_tot = 0.\n",
    "for i in range(0,num_atoms):\n",
    "    for j in range(0,num_atoms):\n",
    "        if i < j:\n",
    "            V_pair = calculate_coulomb_potential_au(xyz[i], xyz[j], atom_labels[i], atom_labels[j])\n",
    "            V_tot += V_pair\n",
    "            print(F'{atom_labels[i]} to {atom_labels[j]} : V_pair {V_pair:.6f} Hartrees')\n",
    "            \n",
    "print(F'Total Coulomb Potential is {V_tot:.6f} Hartrees')"
   ]
  },
  {
   "cell_type": "code",
   "execution_count": null,
   "metadata": {},
   "outputs": [],
   "source": []
  }
 ],
 "metadata": {
  "kernelspec": {
   "display_name": "Python 3",
   "language": "python",
   "name": "python3"
  },
  "language_info": {
   "codemirror_mode": {
    "name": "ipython",
    "version": 3
   },
   "file_extension": ".py",
   "mimetype": "text/x-python",
   "name": "python",
   "nbconvert_exporter": "python",
   "pygments_lexer": "ipython3",
   "version": "3.7.6"
  }
 },
 "nbformat": 4,
 "nbformat_minor": 2
}
