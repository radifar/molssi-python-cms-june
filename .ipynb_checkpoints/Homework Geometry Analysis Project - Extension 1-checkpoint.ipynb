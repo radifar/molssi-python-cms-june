{
 "cells": [
  {
   "cell_type": "markdown",
   "metadata": {},
   "source": [
    "# Homework - Geometry Analysis Project - Extension 1\n",
    "\n",
    "You can also see the homework assignment on the [Tabular Data](https://education.molssi.org/python_scripting_cms/04-tabular_data/index.html) lesson under \"Geometry Analysis Project\". Note that there are several project extensions for you to try if you finish the first assignment.\n",
    "\n",
    "*Assignment*: In the lesson materials, there is a file in the `data` folder called “water.xyz”. This is a very simple, standard file format that is often used to distribute molecular coordinates. The first line of the file is the number of atoms in the molecule, the second line is a title line (or may be blank), and the coordinates begin on the third line. The format of the coordinates is\n",
    "\n",
    "```Atom_Label  XCoor   YCoor   ZCoor```\n",
    "\n",
    "and the default units (which are used in this example) are angstroms.\n",
    "\n",
    "Write a code to read in the information from the xyz file and determine the bond lengths between all the atoms. There is a numpy function to take the square root, `numpy.sqrt()`. To raise a number to a power, use \\*\\*, as in 3\\*\\*2 = 9. Your code output should look something like this.\n",
    "\n",
    "    O to O : 0.0\n",
    "    O to H1 : 0.969\n",
    "    O to H2 : 0.969\n",
    "    H1 to O : 0.969\n",
    "    H1 to H1 : 0.0\n",
    "    H1 to H2 : 1.527\n",
    "    H2 to O : 0.969\n",
    "    H2 to H1 : 1.527\n",
    "    H2 to H2 : 0.0\n",
    "\n",
    "\n",
    "Hint: You will need a double for loop to measure the distance between all the atoms. If you aren’t sure how to get started, print the variables inside your for loop."
   ]
  },
  {
   "cell_type": "markdown",
   "metadata": {},
   "source": [
    "## Extension 1\n",
    "\n",
    "Your initial project calculated the distance between every set of atoms. However, some of these atoms aren’t really bonded to each other. H1 and H2 are not bonded for example, and all of the distances between an atom and itself are zero. Use a distance cutoff of 1.5 angstroms to define a bond (that is, if the bond length is greater than 1.5 angstroms, consider the atoms not bonded). Modify your code to only print the atoms that are actually bonded to each other."
   ]
  },
  {
   "cell_type": "code",
   "execution_count": 1,
   "metadata": {},
   "outputs": [],
   "source": [
    "import os\n",
    "import numpy as np"
   ]
  },
  {
   "cell_type": "markdown",
   "metadata": {},
   "source": [
    "The real coordinates start from third rows, therefore skip 2 header using `skip_header` option."
   ]
  },
  {
   "cell_type": "code",
   "execution_count": 2,
   "metadata": {},
   "outputs": [
    {
     "name": "stdout",
     "output_type": "stream",
     "text": [
      "[['O' '0.000000' '-0.007156' '0.965491']\n",
      " ['H1' '-0.000000' '0.001486' '-0.003471']\n",
      " ['H2' '0.000000' '0.931026' '1.207929']]\n"
     ]
    }
   ],
   "source": [
    "water_file = os.path.join('data', 'water.xyz')\n",
    "water = np.genfromtxt(fname=water_file, skip_header=2, dtype='unicode')\n",
    "print(water)"
   ]
  },
  {
   "cell_type": "code",
   "execution_count": 3,
   "metadata": {},
   "outputs": [
    {
     "name": "stdout",
     "output_type": "stream",
     "text": [
      "[['0.000000' '-0.007156' '0.965491']\n",
      " ['-0.000000' '0.001486' '-0.003471']\n",
      " ['0.000000' '0.931026' '1.207929']]\n"
     ]
    }
   ],
   "source": [
    "print(water[:,1:])"
   ]
  },
  {
   "cell_type": "markdown",
   "metadata": {},
   "source": [
    "Put atom names into `atoms` list, while coordinates must be extracted with slicing and converted to `np.float` type then stored in `coordinates` numpy array. `atoms` should be in list object type to retrieve the atom `index` in looping below."
   ]
  },
  {
   "cell_type": "code",
   "execution_count": 4,
   "metadata": {},
   "outputs": [
    {
     "name": "stdout",
     "output_type": "stream",
     "text": [
      "This is list of atoms:\n",
      "['O', 'H1', 'H2']\n",
      "\n",
      "This is numpy array of coordinates:\n",
      "[[ 0.       -0.007156  0.965491]\n",
      " [-0.        0.001486 -0.003471]\n",
      " [ 0.        0.931026  1.207929]]\n"
     ]
    }
   ],
   "source": [
    "atoms = list(water[:,0])\n",
    "coordinates = water[:,1:].astype(np.float)\n",
    "print(F'This is list of atoms:\\n{atoms}\\n')\n",
    "print(F'This is numpy array of coordinates:\\n{coordinates}')"
   ]
  },
  {
   "cell_type": "code",
   "execution_count": 5,
   "metadata": {},
   "outputs": [
    {
     "name": "stdout",
     "output_type": "stream",
     "text": [
      "O-H1: 0.9690005374652793\n",
      "O-H2: 0.9690003348647513\n",
      "H1-H2: 1.52693633514957\n"
     ]
    }
   ],
   "source": [
    "# Just wanna make sure if the formula is correct\n",
    "# compare the results against the homework instruction\n",
    "\n",
    "OH1_distance = np.sqrt(np.sum((coordinates[0]-coordinates[1])**2))  # O - H1\n",
    "OH2_distance = np.sqrt(np.sum((coordinates[0]-coordinates[2])**2))  # O - H2\n",
    "H1H2_distance = np.sqrt(np.sum((coordinates[1]-coordinates[2])**2))  # H1 - H2\n",
    "print(F'O-H1: {OH1_distance}\\nO-H2: {OH2_distance}\\nH1-H2: {H1H2_distance}')"
   ]
  },
  {
   "cell_type": "code",
   "execution_count": 12,
   "metadata": {},
   "outputs": [
    {
     "name": "stdout",
     "output_type": "stream",
     "text": [
      "O  to H1 : 0.969\n",
      "O  to H2 : 0.969\n",
      "H1 to O  : 0.969\n",
      "H2 to O  : 0.969\n"
     ]
    }
   ],
   "source": [
    "for atom1 in atoms:\n",
    "    for atom2 in atoms:\n",
    "        a1 = atoms.index(atom1)\n",
    "        a2 = atoms.index(atom2)\n",
    "        coor1 = coordinates[a1]\n",
    "        coor2 = coordinates[a2]\n",
    "        distance = np.sqrt(np.sum((coor1-coor2)**2))\n",
    "        if 0 < distance <= 1.5:\n",
    "            print(F'{atom1:2} to {atom2:2} : {distance:.3f}')"
   ]
  },
  {
   "cell_type": "code",
   "execution_count": 7,
   "metadata": {},
   "outputs": [
    {
     "name": "stdout",
     "output_type": "stream",
     "text": [
      "Last Updated On: 2020-06-08 11:08 WIB\n",
      "By: radifar\n"
     ]
    }
   ],
   "source": [
    "import getpass\n",
    "from time import strftime, localtime\n",
    "\n",
    "lt = localtime()\n",
    "uname = getpass.getuser()\n",
    "print(F'Last Updated On: {strftime(\"%Y-%m-%d %H:%M\")} {lt.tm_zone}\\nBy: {uname}')"
   ]
  }
 ],
 "metadata": {
  "kernelspec": {
   "display_name": "Python 3",
   "language": "python",
   "name": "python3"
  },
  "language_info": {
   "codemirror_mode": {
    "name": "ipython",
    "version": 3
   },
   "file_extension": ".py",
   "mimetype": "text/x-python",
   "name": "python",
   "nbconvert_exporter": "python",
   "pygments_lexer": "ipython3",
   "version": "3.7.6"
  }
 },
 "nbformat": 4,
 "nbformat_minor": 4
}
