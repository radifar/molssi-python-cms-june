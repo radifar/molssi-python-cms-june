{
 "cells": [
  {
   "cell_type": "markdown",
   "metadata": {},
   "source": [
    "# File Parsing Homework\n",
    "\n",
    "In the lesson materials, there is a file called `03_Prod.mdout`. This is a file output by the Amber molecular dynamics simulation program. If you open the file and look at it, you will see sections which look like this:\n",
    "\n",
    "```\n",
    " NSTEP =      100   TIME(PS) =      20.200  TEMP(K) =   296.43  PRESS =  -300.8\n",
    " Etot   =     -4585.1049  EKtot   =      1129.2368  EPtot      =     -5714.3417\n",
    " BOND   =         1.5160  ANGLE   =         6.9846  DIHED      =        11.7108\n",
    " 1-4 NB =         4.3175  1-4 EEL =        49.9911  VDWAALS    =       882.6741\n",
    " EELEC  =     -6671.5358  EHBOND  =         0.0000  RESTRAINT  =         0.0000\n",
    " EKCMT  =       583.7810  VIRIAL  =       786.8823  VOLUME     =     31270.0410\n",
    "                                                    Density    =         0.6104\n",
    " Ewald error estimate:   0.3214E-03\n",
    " ------------------------------------------------------------------------------\n",
    "```\n",
    "\n",
    "Your assignment is to parse this file, and write a new file containing a list of the > total energies. Name your file `Etot.txt`. When you open it, it should look like this:\n",
    "\n",
    "```\n",
    "-4585.1049\n",
    "-4573.5326\n",
    "-4548.1223\n",
    "-4525.341\n",
    "-4542.8995\n",
    "-4550.9376\n",
    "-4543.8652\n",
    "-4570.4109\n",
    "-4550.4225\n",
    "-4585.2078\n",
    "...\n",
    "```\n",
    "\n",
    "`...` indicates that you will have many more rows. We’ve only shown the first 10 here."
   ]
  },
  {
   "cell_type": "code",
   "execution_count": 1,
   "metadata": {},
   "outputs": [
    {
     "name": "stdout",
     "output_type": "stream",
     "text": [
      "03_Prod.mdout  buckminsterfullerene.xyz   \u001b[0m\u001b[01;34moutfiles\u001b[0m/  water.xyz\r\n",
      "benzene.xyz    distance_data_headers.csv  sapt.out\r\n"
     ]
    }
   ],
   "source": [
    "ls data"
   ]
  },
  {
   "cell_type": "code",
   "execution_count": 2,
   "metadata": {},
   "outputs": [],
   "source": [
    "import os"
   ]
  },
  {
   "cell_type": "code",
   "execution_count": 3,
   "metadata": {},
   "outputs": [
    {
     "data": {
      "text/plain": [
       "3547"
      ]
     },
     "execution_count": 3,
     "metadata": {},
     "output_type": "execute_result"
    }
   ],
   "source": [
    "mdout_file = os.path.join('data','03_Prod.mdout')\n",
    "mdout = open(mdout_file, 'r')\n",
    "lines = mdout.readlines()\n",
    "mdout.close()\n",
    "len(lines)"
   ]
  },
  {
   "cell_type": "code",
   "execution_count": 4,
   "metadata": {},
   "outputs": [],
   "source": [
    "etot = open('Etot.txt','w+')\n",
    "for line in lines:\n",
    "    if 'Etot' in line:\n",
    "        energy = line.split()[2]\n",
    "        etot.write(F'{energy}\\n')\n",
    "\n",
    "etot.close()"
   ]
  },
  {
   "cell_type": "code",
   "execution_count": 5,
   "metadata": {},
   "outputs": [
    {
     "name": "stdout",
     "output_type": "stream",
     "text": [
      "Last Updated On: 2020-06-05 07:12:02.837099 WIB\n",
      "By: radifar\n"
     ]
    }
   ],
   "source": [
    "import datetime\n",
    "import getpass\n",
    "from time import localtime\n",
    "\n",
    "lt = localtime()\n",
    "uname = getpass.getuser()\n",
    "print(F'Last Updated On: {datetime.datetime.now()} {lt.tm_zone}\\nBy: {uname}')"
   ]
  }
 ],
 "metadata": {
  "kernelspec": {
   "display_name": "Python 3",
   "language": "python",
   "name": "python3"
  },
  "language_info": {
   "codemirror_mode": {
    "name": "ipython",
    "version": 3
   },
   "file_extension": ".py",
   "mimetype": "text/x-python",
   "name": "python",
   "nbconvert_exporter": "python",
   "pygments_lexer": "ipython3",
   "version": "3.7.6"
  }
 },
 "nbformat": 4,
 "nbformat_minor": 4
}
