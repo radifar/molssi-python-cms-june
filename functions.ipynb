{
 "cells": [
  {
   "cell_type": "markdown",
   "metadata": {},
   "source": [
    "## Writing functions"
   ]
  },
  {
   "cell_type": "markdown",
   "metadata": {},
   "source": [
    "```python\n",
    "def function_name(parameters):\n",
    "    ** body of your code **\n",
    "    return value_to_return\n",
    "```"
   ]
  },
  {
   "cell_type": "code",
   "execution_count": 1,
   "metadata": {},
   "outputs": [],
   "source": [
    "import numpy as np\n",
    "import os\n",
    "\n",
    "file_location = os.path.join('data','water.xyz')\n",
    "xyz_file = np.genfromtxt(file_location, skip_header=2, dtype='unicode')\n",
    "symbols = xyz_file[:,0]\n",
    "coordinates = xyz_file[:,1:]\n",
    "coordinates = coordinates.astype(np.float)"
   ]
  },
  {
   "cell_type": "code",
   "execution_count": 5,
   "metadata": {},
   "outputs": [],
   "source": [
    "def calc_dist(coord1,coord2):\n",
    "    x_dist = coord1[0]-coord2[0]\n",
    "    y_dist = coord1[1]-coord2[1]\n",
    "    z_dist = coord1[2]-coord2[2]\n",
    "    distance_12 = np.sqrt(x_dist**2 + y_dist**2 + z_dist**2)\n",
    "    return distance_12"
   ]
  },
  {
   "cell_type": "code",
   "execution_count": 7,
   "metadata": {},
   "outputs": [
    {
     "name": "stdout",
     "output_type": "stream",
     "text": [
      "O  to H1 : 0.969\n",
      "O  to H2 : 0.969\n"
     ]
    }
   ],
   "source": [
    "import numpy as np\n",
    "import os\n",
    "\n",
    "file_location = os.path.join('data','water.xyz')\n",
    "xyz_file = np.genfromtxt(file_location, skip_header=2, dtype='unicode')\n",
    "symbols = xyz_file[:,0]\n",
    "coordinates = xyz_file[:,1:]\n",
    "coordinates = coordinates.astype(np.float)\n",
    "\n",
    "num_atoms = len(symbols)\n",
    "for num1 in range(0,num_atoms):\n",
    "    for num2 in range(0, num_atoms):\n",
    "        if num1<num2:\n",
    "            distance = calc_dist(coordinates[num1], coordinates[num2])\n",
    "            if 0 < distance <=1.5:\n",
    "                print(F'{symbols[num1]:2} to {symbols[num2]:2} : {distance:.3f}')"
   ]
  },
  {
   "cell_type": "code",
   "execution_count": 16,
   "metadata": {},
   "outputs": [],
   "source": [
    "def bond_check(distance, min_dist=0, max_dist=1.5):\n",
    "    '''\n",
    "    Check if a distance is a bond based on a minimum and maximum length.\n",
    "    Inputs: distance, min_length, max_length\n",
    "    Defaults: min_length=0, max_length=1.5\n",
    "    Return: True or False\n",
    "    '''\n",
    "    if min_dist < distance <= max_dist:\n",
    "        return True\n",
    "    else:\n",
    "        return False"
   ]
  },
  {
   "cell_type": "code",
   "execution_count": 9,
   "metadata": {},
   "outputs": [
    {
     "data": {
      "text/plain": [
       "False"
      ]
     },
     "execution_count": 9,
     "metadata": {},
     "output_type": "execute_result"
    }
   ],
   "source": [
    "bond_check(1.2,0,1.0)"
   ]
  },
  {
   "cell_type": "code",
   "execution_count": 12,
   "metadata": {},
   "outputs": [
    {
     "data": {
      "text/plain": [
       "False"
      ]
     },
     "execution_count": 12,
     "metadata": {},
     "output_type": "execute_result"
    }
   ],
   "source": [
    "bond_check(2)"
   ]
  },
  {
   "cell_type": "code",
   "execution_count": 17,
   "metadata": {},
   "outputs": [
    {
     "name": "stdout",
     "output_type": "stream",
     "text": [
      "Help on function bond_check in module __main__:\n",
      "\n",
      "bond_check(distance, min_dist=0, max_dist=1.5)\n",
      "    Check if a distance is a bond based on a minimum and maximum length.\n",
      "    Inputs: distance, min_length, max_length\n",
      "    Defaults: min_length=0, max_length=1.5\n",
      "    Return: True or False\n",
      "\n"
     ]
    }
   ],
   "source": [
    "help(bond_check)"
   ]
  },
  {
   "cell_type": "code",
   "execution_count": 20,
   "metadata": {},
   "outputs": [
    {
     "name": "stdout",
     "output_type": "stream",
     "text": [
      "O  to H1 : 0.969\n",
      "O  to H2 : 0.969\n"
     ]
    }
   ],
   "source": [
    "import numpy as np\n",
    "import os\n",
    "\n",
    "def calc_dist(coord1,coord2):\n",
    "    '''\n",
    "    Calculate distance between coordinate\n",
    "    '''\n",
    "    x_dist = coord1[0]-coord2[0]\n",
    "    y_dist = coord1[1]-coord2[1]\n",
    "    z_dist = coord1[2]-coord2[2]\n",
    "    distance_12 = np.sqrt(x_dist**2 + y_dist**2 + z_dist**2)\n",
    "    return distance_12\n",
    "\n",
    "def bond_check(distance, min_dist=0, max_dist=1.5):\n",
    "    '''\n",
    "    Check if a distance is a bond based on a minimum and maximum length.\n",
    "    Inputs: distance, min_length, max_length\n",
    "    Defaults: min_length=0, max_length=1.5\n",
    "    Return: True or False\n",
    "    '''\n",
    "    if min_dist < distance <= max_dist:\n",
    "        return True\n",
    "    else:\n",
    "        return False\n",
    "\n",
    "file_location = os.path.join('data','water.xyz')\n",
    "xyz_file = np.genfromtxt(file_location, skip_header=2, dtype='unicode')\n",
    "symbols = xyz_file[:,0]\n",
    "coordinates = xyz_file[:,1:]\n",
    "coordinates = coordinates.astype(np.float)\n",
    "\n",
    "num_atoms = len(symbols)\n",
    "for num1 in range(0,num_atoms):\n",
    "    for num2 in range(0, num_atoms):\n",
    "        if num1<num2:\n",
    "            distance = calc_dist(coordinates[num1], coordinates[num2])\n",
    "            if bond_check(distance):\n",
    "                print(F'{symbols[num1]:2} to {symbols[num2]:2} : {distance:.3f}')"
   ]
  },
  {
   "cell_type": "code",
   "execution_count": null,
   "metadata": {},
   "outputs": [],
   "source": []
  }
 ],
 "metadata": {
  "kernelspec": {
   "display_name": "Python 3",
   "language": "python",
   "name": "python3"
  },
  "language_info": {
   "codemirror_mode": {
    "name": "ipython",
    "version": 3
   },
   "file_extension": ".py",
   "mimetype": "text/x-python",
   "name": "python",
   "nbconvert_exporter": "python",
   "pygments_lexer": "ipython3",
   "version": "3.7.6"
  }
 },
 "nbformat": 4,
 "nbformat_minor": 4
}
